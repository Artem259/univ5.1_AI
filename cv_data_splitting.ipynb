{
 "cells": [
  {
   "metadata": {
    "ExecuteTime": {
     "end_time": "2024-11-12T02:07:26.165719Z",
     "start_time": "2024-11-12T02:07:26.155885Z"
    }
   },
   "cell_type": "code",
   "source": [
    "import os\n",
    "import shutil\n",
    "import numpy as np\n",
    "import pandas as pd\n",
    "from sklearn.model_selection import StratifiedKFold\n",
    "from collections import defaultdict\n",
    "from pathlib import Path\n",
    "\n",
    "from python import classes"
   ],
   "id": "14803eba301bae9a",
   "outputs": [],
   "execution_count": 10
  },
  {
   "cell_type": "code",
   "id": "initial_id",
   "metadata": {
    "collapsed": true,
    "ExecuteTime": {
     "end_time": "2024-11-12T02:07:26.180515Z",
     "start_time": "2024-11-12T02:07:26.169207Z"
    }
   },
   "source": [
    "input_dir = \"crop\"\n",
    "output_dir = \"data\"\n",
    "classification = \"types\"  # TODO\n",
    "cv_folds = 5"
   ],
   "outputs": [],
   "execution_count": 11
  },
  {
   "metadata": {
    "ExecuteTime": {
     "end_time": "2024-11-12T02:07:26.227085Z",
     "start_time": "2024-11-12T02:07:26.212594Z"
    }
   },
   "cell_type": "code",
   "source": "assert classification in ['models', 'types'], \"classification must be one of ['models', 'types']\"",
   "id": "d342c06b6296b91",
   "outputs": [],
   "execution_count": 12
  },
  {
   "metadata": {
    "ExecuteTime": {
     "end_time": "2024-11-12T02:07:26.273805Z",
     "start_time": "2024-11-12T02:07:26.259495Z"
    }
   },
   "cell_type": "code",
   "source": "output_dir = Path(output_dir) / f\"{classification}\"",
   "id": "af0d38a7250d92d4",
   "outputs": [],
   "execution_count": 13
  },
  {
   "metadata": {
    "ExecuteTime": {
     "end_time": "2024-11-12T02:07:26.382535Z",
     "start_time": "2024-11-12T02:07:26.305702Z"
    }
   },
   "cell_type": "code",
   "source": [
    "# Gather file paths for each class\n",
    "data = defaultdict(list)\n",
    "for model_dir in os.listdir(input_dir):\n",
    "    class_path = os.path.join(input_dir, model_dir)\n",
    "    if os.path.isdir(class_path):\n",
    "        for img_file in os.listdir(class_path):\n",
    "            key = classes.classes_map[classification][model_dir]\n",
    "            data[key].append(os.path.join(class_path, img_file))\n",
    "            \n",
    "df = pd.DataFrame(map(lambda kv: (kv[0], len(kv[1])), data.items()), columns=['model', 'total'])\n",
    "df.set_index('model', inplace=True)\n",
    "\n",
    "print(f\"Classes found: {len(df)}\")"
   ],
   "id": "bee1db5564f03d35",
   "outputs": [
    {
     "name": "stdout",
     "output_type": "stream",
     "text": [
      "Classes found: 2\n"
     ]
    }
   ],
   "execution_count": 14
  },
  {
   "metadata": {
    "ExecuteTime": {
     "end_time": "2024-11-12T02:07:26.475864Z",
     "start_time": "2024-11-12T02:07:26.451535Z"
    }
   },
   "cell_type": "code",
   "source": [
    "# Create data and label arrays\n",
    "file_paths = []\n",
    "labels = []\n",
    "for label, paths in data.items():\n",
    "    file_paths.extend(paths)\n",
    "    labels.extend([label] * len(paths))\n",
    "\n",
    "file_paths = np.array(file_paths)\n",
    "labels = np.array(labels)"
   ],
   "id": "f22f5f0e9d33a68d",
   "outputs": [],
   "execution_count": 15
  },
  {
   "metadata": {
    "ExecuteTime": {
     "end_time": "2024-11-12T02:08:20.879538Z",
     "start_time": "2024-11-12T02:07:26.492177Z"
    }
   },
   "cell_type": "code",
   "source": [
    "# Stratified K-Fold cross-validation\n",
    "skf = StratifiedKFold(n_splits=cv_folds, shuffle=True, random_state=42)\n",
    "\n",
    "shutil.rmtree(output_dir, ignore_errors=True)\n",
    "for fold_idx, (_, test_idx) in enumerate(skf.split(file_paths, labels)):\n",
    "    fold_path = os.path.join(output_dir, f\"cv{fold_idx + 1}\")\n",
    "    os.makedirs(fold_path, exist_ok=True)\n",
    "    df[f\"cv{fold_idx + 1}\"] = 0\n",
    "\n",
    "    for idx in test_idx:\n",
    "        class_label = labels[idx]\n",
    "        class_fold_path = os.path.join(fold_path, class_label)\n",
    "        os.makedirs(class_fold_path, exist_ok=True)\n",
    "        shutil.copy(file_paths[idx], class_fold_path)\n",
    "        df.at[f\"{class_label}\", f\"cv{fold_idx + 1}\"] += 1 \n",
    "    print(f\"cv{fold_idx + 1} completed.\")"
   ],
   "id": "af8786f1fa5193a6",
   "outputs": [
    {
     "name": "stdout",
     "output_type": "stream",
     "text": [
      "cv1 completed.\n",
      "cv2 completed.\n",
      "cv3 completed.\n",
      "cv4 completed.\n",
      "cv5 completed.\n"
     ]
    }
   ],
   "execution_count": 16
  },
  {
   "metadata": {
    "ExecuteTime": {
     "end_time": "2024-11-12T02:08:20.925292Z",
     "start_time": "2024-11-12T02:08:20.911146Z"
    }
   },
   "cell_type": "code",
   "source": "df",
   "id": "c872b920f8148774",
   "outputs": [
    {
     "data": {
      "text/plain": [
       "            total   cv1   cv2   cv3   cv4   cv5\n",
       "model                                          \n",
       "airplane    29572  5915  5915  5914  5914  5914\n",
       "helicopter   2345   469   469   469   469   469"
      ],
      "text/html": [
       "<div>\n",
       "<style scoped>\n",
       "    .dataframe tbody tr th:only-of-type {\n",
       "        vertical-align: middle;\n",
       "    }\n",
       "\n",
       "    .dataframe tbody tr th {\n",
       "        vertical-align: top;\n",
       "    }\n",
       "\n",
       "    .dataframe thead th {\n",
       "        text-align: right;\n",
       "    }\n",
       "</style>\n",
       "<table border=\"1\" class=\"dataframe\">\n",
       "  <thead>\n",
       "    <tr style=\"text-align: right;\">\n",
       "      <th></th>\n",
       "      <th>total</th>\n",
       "      <th>cv1</th>\n",
       "      <th>cv2</th>\n",
       "      <th>cv3</th>\n",
       "      <th>cv4</th>\n",
       "      <th>cv5</th>\n",
       "    </tr>\n",
       "    <tr>\n",
       "      <th>model</th>\n",
       "      <th></th>\n",
       "      <th></th>\n",
       "      <th></th>\n",
       "      <th></th>\n",
       "      <th></th>\n",
       "      <th></th>\n",
       "    </tr>\n",
       "  </thead>\n",
       "  <tbody>\n",
       "    <tr>\n",
       "      <th>airplane</th>\n",
       "      <td>29572</td>\n",
       "      <td>5915</td>\n",
       "      <td>5915</td>\n",
       "      <td>5914</td>\n",
       "      <td>5914</td>\n",
       "      <td>5914</td>\n",
       "    </tr>\n",
       "    <tr>\n",
       "      <th>helicopter</th>\n",
       "      <td>2345</td>\n",
       "      <td>469</td>\n",
       "      <td>469</td>\n",
       "      <td>469</td>\n",
       "      <td>469</td>\n",
       "      <td>469</td>\n",
       "    </tr>\n",
       "  </tbody>\n",
       "</table>\n",
       "</div>"
      ]
     },
     "execution_count": 17,
     "metadata": {},
     "output_type": "execute_result"
    }
   ],
   "execution_count": 17
  },
  {
   "metadata": {
    "ExecuteTime": {
     "end_time": "2024-11-12T02:08:21.020068Z",
     "start_time": "2024-11-12T02:08:21.005706Z"
    }
   },
   "cell_type": "code",
   "source": [
    "df_sum = df.sum()\n",
    "df_sum"
   ],
   "id": "a6b77bab1eef6414",
   "outputs": [
    {
     "data": {
      "text/plain": [
       "total    31917\n",
       "cv1       6384\n",
       "cv2       6384\n",
       "cv3       6383\n",
       "cv4       6383\n",
       "cv5       6383\n",
       "dtype: int64"
      ]
     },
     "execution_count": 18,
     "metadata": {},
     "output_type": "execute_result"
    }
   ],
   "execution_count": 18
  }
 ],
 "metadata": {
  "kernelspec": {
   "display_name": "Python 3",
   "language": "python",
   "name": "python3"
  },
  "language_info": {
   "codemirror_mode": {
    "name": "ipython",
    "version": 2
   },
   "file_extension": ".py",
   "mimetype": "text/x-python",
   "name": "python",
   "nbconvert_exporter": "python",
   "pygments_lexer": "ipython2",
   "version": "2.7.6"
  }
 },
 "nbformat": 4,
 "nbformat_minor": 5
}
