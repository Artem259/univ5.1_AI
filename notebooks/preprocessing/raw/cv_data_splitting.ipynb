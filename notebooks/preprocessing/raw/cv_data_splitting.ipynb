{
 "cells": [
  {
   "cell_type": "code",
   "id": "14803eba301bae9a",
   "metadata": {},
   "source": [
    "import os\n",
    "import shutil\n",
    "import numpy as np\n",
    "import pandas as pd\n",
    "from sklearn.model_selection import StratifiedKFold\n",
    "from collections import defaultdict\n",
    "from pathlib import Path\n",
    "\n",
    "from python import classes"
   ],
   "outputs": [],
   "execution_count": null
  },
  {
   "cell_type": "code",
   "id": "initial_id",
   "metadata": {
    "tags": [
     "parameters"
    ]
   },
   "source": [
    "classification = \"\"\n",
    "cv_folds = 5\n",
    "\n",
    "input_dir = \"crop\"\n",
    "output_dir = \"data\""
   ],
   "outputs": [],
   "execution_count": null
  },
  {
   "cell_type": "code",
   "id": "d342c06b6296b91",
   "metadata": {},
   "source": [
    "assert classification in ['models', 'types'], \"classification must be one of ['models', 'types']\""
   ],
   "outputs": [],
   "execution_count": null
  },
  {
   "cell_type": "code",
   "id": "af0d38a7250d92d4",
   "metadata": {},
   "source": [
    "output_dir = Path(output_dir) / f\"{classification}\""
   ],
   "outputs": [],
   "execution_count": null
  },
  {
   "cell_type": "code",
   "id": "bee1db5564f03d35",
   "metadata": {},
   "source": [
    "# Gather file paths for each class\n",
    "data = defaultdict(list)\n",
    "for model_dir in os.listdir(input_dir):\n",
    "    class_path = os.path.join(input_dir, model_dir)\n",
    "    if os.path.isdir(class_path):\n",
    "        for img_file in os.listdir(class_path):\n",
    "            key = classes.classes_map[classification][model_dir]\n",
    "            data[key].append(os.path.join(class_path, img_file))\n",
    "            \n",
    "df = pd.DataFrame(map(lambda kv: (kv[0], len(kv[1])), data.items()), columns=['model', 'total'])\n",
    "df.set_index('model', inplace=True)\n",
    "\n",
    "print(f\"Classes found: {len(df)}\")"
   ],
   "outputs": [],
   "execution_count": null
  },
  {
   "cell_type": "code",
   "id": "f22f5f0e9d33a68d",
   "metadata": {},
   "source": [
    "# Create data and label arrays\n",
    "file_paths = []\n",
    "labels = []\n",
    "for label, paths in data.items():\n",
    "    file_paths.extend(paths)\n",
    "    labels.extend([label] * len(paths))\n",
    "\n",
    "file_paths = np.array(file_paths)\n",
    "labels = np.array(labels)"
   ],
   "outputs": [],
   "execution_count": null
  },
  {
   "cell_type": "code",
   "id": "af8786f1fa5193a6",
   "metadata": {},
   "source": [
    "# Stratified K-Fold cross-validation\n",
    "skf = StratifiedKFold(n_splits=cv_folds, shuffle=True, random_state=42)\n",
    "\n",
    "shutil.rmtree(output_dir, ignore_errors=True)\n",
    "for fold_idx, (_, test_idx) in enumerate(skf.split(file_paths, labels)):\n",
    "    fold_path = os.path.join(output_dir, f\"cv{fold_idx + 1}\")\n",
    "    os.makedirs(fold_path, exist_ok=True)\n",
    "    df[f\"cv{fold_idx + 1}\"] = 0\n",
    "\n",
    "    for idx in test_idx:\n",
    "        class_label = labels[idx]\n",
    "        class_fold_path = os.path.join(fold_path, class_label)\n",
    "        os.makedirs(class_fold_path, exist_ok=True)\n",
    "        shutil.copy(file_paths[idx], class_fold_path)\n",
    "        df.at[f\"{class_label}\", f\"cv{fold_idx + 1}\"] += 1 \n",
    "    print(f\"cv{fold_idx + 1} completed.\")"
   ],
   "outputs": [],
   "execution_count": null
  },
  {
   "cell_type": "code",
   "id": "c872b920f8148774",
   "metadata": {},
   "source": [
    "df"
   ],
   "outputs": [],
   "execution_count": null
  },
  {
   "cell_type": "code",
   "id": "a6b77bab1eef6414",
   "metadata": {},
   "source": [
    "df_sum = df.sum()\n",
    "df_sum"
   ],
   "outputs": [],
   "execution_count": null
  }
 ],
 "metadata": {
  "kernelspec": {
   "display_name": "Python 3 (ipykernel)",
   "language": "python",
   "name": "python3"
  },
  "language_info": {
   "codemirror_mode": {
    "name": "ipython",
    "version": 3
   },
   "file_extension": ".py",
   "mimetype": "text/x-python",
   "name": "python",
   "nbconvert_exporter": "python",
   "pygments_lexer": "ipython3",
   "version": "3.9.13"
  }
 },
 "nbformat": 4,
 "nbformat_minor": 5
}
