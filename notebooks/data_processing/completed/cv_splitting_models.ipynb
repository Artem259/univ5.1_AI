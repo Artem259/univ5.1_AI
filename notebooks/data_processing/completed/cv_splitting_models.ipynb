{
 "cells": [
  {
   "cell_type": "code",
   "execution_count": 1,
   "id": "14803eba301bae9a",
   "metadata": {
    "execution": {
     "iopub.execute_input": "2024-11-13T19:31:48.990710Z",
     "iopub.status.busy": "2024-11-13T19:31:48.989707Z",
     "iopub.status.idle": "2024-11-13T19:31:49.954749Z",
     "shell.execute_reply": "2024-11-13T19:31:49.954749Z"
    },
    "papermill": {
     "duration": 0.968043,
     "end_time": "2024-11-13T19:31:49.955750",
     "exception": false,
     "start_time": "2024-11-13T19:31:48.987707",
     "status": "completed"
    },
    "tags": []
   },
   "outputs": [],
   "source": [
    "import os\n",
    "import shutil\n",
    "import numpy as np\n",
    "import pandas as pd\n",
    "from sklearn.model_selection import StratifiedKFold\n",
    "from collections import defaultdict\n",
    "from pathlib import Path\n",
    "\n",
    "from python import classes"
   ]
  },
  {
   "cell_type": "code",
   "execution_count": 2,
   "id": "initial_id",
   "metadata": {
    "execution": {
     "iopub.execute_input": "2024-11-13T19:31:49.961475Z",
     "iopub.status.busy": "2024-11-13T19:31:49.960473Z",
     "iopub.status.idle": "2024-11-13T19:31:49.969980Z",
     "shell.execute_reply": "2024-11-13T19:31:49.969980Z"
    },
    "papermill": {
     "duration": 0.012511,
     "end_time": "2024-11-13T19:31:49.970979",
     "exception": false,
     "start_time": "2024-11-13T19:31:49.958468",
     "status": "completed"
    },
    "tags": [
     "parameters"
    ]
   },
   "outputs": [],
   "source": [
    "classification = \"\"\n",
    "cv_folds = 5\n",
    "\n",
    "input_dir = \"crop\"\n",
    "output_dir = \"data\""
   ]
  },
  {
   "cell_type": "code",
   "execution_count": 3,
   "id": "1812f7ab",
   "metadata": {
    "execution": {
     "iopub.execute_input": "2024-11-13T19:31:49.975982Z",
     "iopub.status.busy": "2024-11-13T19:31:49.974979Z",
     "iopub.status.idle": "2024-11-13T19:31:49.985796Z",
     "shell.execute_reply": "2024-11-13T19:31:49.985796Z"
    },
    "papermill": {
     "duration": 0.014022,
     "end_time": "2024-11-13T19:31:49.987002",
     "exception": false,
     "start_time": "2024-11-13T19:31:49.972980",
     "status": "completed"
    },
    "tags": [
     "injected-parameters"
    ]
   },
   "outputs": [],
   "source": [
    "# Parameters\n",
    "classification = \"models\"\n"
   ]
  },
  {
   "cell_type": "code",
   "execution_count": 4,
   "id": "d342c06b6296b91",
   "metadata": {
    "execution": {
     "iopub.execute_input": "2024-11-13T19:31:49.991010Z",
     "iopub.status.busy": "2024-11-13T19:31:49.991010Z",
     "iopub.status.idle": "2024-11-13T19:31:50.001167Z",
     "shell.execute_reply": "2024-11-13T19:31:50.001167Z"
    },
    "papermill": {
     "duration": 0.013168,
     "end_time": "2024-11-13T19:31:50.002175",
     "exception": false,
     "start_time": "2024-11-13T19:31:49.989007",
     "status": "completed"
    },
    "tags": []
   },
   "outputs": [],
   "source": [
    "assert classification in ['models', 'types'], \"classification must be one of ['models', 'types']\""
   ]
  },
  {
   "cell_type": "code",
   "execution_count": 5,
   "id": "af0d38a7250d92d4",
   "metadata": {
    "execution": {
     "iopub.execute_input": "2024-11-13T19:31:50.006682Z",
     "iopub.status.busy": "2024-11-13T19:31:50.006682Z",
     "iopub.status.idle": "2024-11-13T19:31:50.016815Z",
     "shell.execute_reply": "2024-11-13T19:31:50.016815Z"
    },
    "papermill": {
     "duration": 0.013647,
     "end_time": "2024-11-13T19:31:50.017819",
     "exception": false,
     "start_time": "2024-11-13T19:31:50.004172",
     "status": "completed"
    },
    "tags": []
   },
   "outputs": [],
   "source": [
    "output_dir = Path(output_dir) / f\"{classification}\""
   ]
  },
  {
   "cell_type": "code",
   "execution_count": 6,
   "id": "bee1db5564f03d35",
   "metadata": {
    "execution": {
     "iopub.execute_input": "2024-11-13T19:31:50.024049Z",
     "iopub.status.busy": "2024-11-13T19:31:50.022836Z",
     "iopub.status.idle": "2024-11-13T19:31:50.109148Z",
     "shell.execute_reply": "2024-11-13T19:31:50.109148Z"
    },
    "papermill": {
     "duration": 0.091336,
     "end_time": "2024-11-13T19:31:50.111154",
     "exception": false,
     "start_time": "2024-11-13T19:31:50.019818",
     "status": "completed"
    },
    "tags": []
   },
   "outputs": [
    {
     "name": "stdout",
     "output_type": "stream",
     "text": [
      "Classes found: 74\n"
     ]
    }
   ],
   "source": [
    "# Gather file paths for each class\n",
    "data = defaultdict(list)\n",
    "for model_dir in os.listdir(input_dir):\n",
    "    class_path = os.path.join(input_dir, model_dir)\n",
    "    if os.path.isdir(class_path):\n",
    "        for img_file in os.listdir(class_path):\n",
    "            key = classes.classes_map[classification][model_dir]\n",
    "            data[key].append(os.path.join(class_path, img_file))\n",
    "            \n",
    "df = pd.DataFrame(map(lambda kv: (kv[0], len(kv[1])), data.items()), columns=['model', 'total'])\n",
    "df.set_index('model', inplace=True)\n",
    "\n",
    "print(f\"Classes found: {len(df)}\")"
   ]
  },
  {
   "cell_type": "code",
   "execution_count": 7,
   "id": "f22f5f0e9d33a68d",
   "metadata": {
    "execution": {
     "iopub.execute_input": "2024-11-13T19:31:50.115658Z",
     "iopub.status.busy": "2024-11-13T19:31:50.114154Z",
     "iopub.status.idle": "2024-11-13T19:31:50.139085Z",
     "shell.execute_reply": "2024-11-13T19:31:50.139085Z"
    },
    "papermill": {
     "duration": 0.02693,
     "end_time": "2024-11-13T19:31:50.140089",
     "exception": false,
     "start_time": "2024-11-13T19:31:50.113159",
     "status": "completed"
    },
    "tags": []
   },
   "outputs": [],
   "source": [
    "# Create data and label arrays\n",
    "file_paths = []\n",
    "labels = []\n",
    "for label, paths in data.items():\n",
    "    file_paths.extend(paths)\n",
    "    labels.extend([label] * len(paths))\n",
    "\n",
    "file_paths = np.array(file_paths)\n",
    "labels = np.array(labels)"
   ]
  },
  {
   "cell_type": "code",
   "execution_count": 8,
   "id": "af8786f1fa5193a6",
   "metadata": {
    "execution": {
     "iopub.execute_input": "2024-11-13T19:31:50.145600Z",
     "iopub.status.busy": "2024-11-13T19:31:50.145095Z",
     "iopub.status.idle": "2024-11-13T19:32:21.849894Z",
     "shell.execute_reply": "2024-11-13T19:32:21.849894Z"
    },
    "papermill": {
     "duration": 31.707806,
     "end_time": "2024-11-13T19:32:21.850896",
     "exception": false,
     "start_time": "2024-11-13T19:31:50.143090",
     "status": "completed"
    },
    "tags": []
   },
   "outputs": [
    {
     "name": "stdout",
     "output_type": "stream",
     "text": [
      "cv1 completed.\n"
     ]
    },
    {
     "name": "stdout",
     "output_type": "stream",
     "text": [
      "cv2 completed.\n"
     ]
    },
    {
     "name": "stdout",
     "output_type": "stream",
     "text": [
      "cv3 completed.\n"
     ]
    },
    {
     "name": "stdout",
     "output_type": "stream",
     "text": [
      "cv4 completed.\n"
     ]
    },
    {
     "name": "stdout",
     "output_type": "stream",
     "text": [
      "cv5 completed.\n"
     ]
    }
   ],
   "source": [
    "# Stratified K-Fold cross-validation\n",
    "skf = StratifiedKFold(n_splits=cv_folds, shuffle=True, random_state=42)\n",
    "\n",
    "shutil.rmtree(output_dir, ignore_errors=True)\n",
    "for fold_idx, (_, test_idx) in enumerate(skf.split(file_paths, labels)):\n",
    "    fold_path = os.path.join(output_dir, f\"cv{fold_idx + 1}\")\n",
    "    os.makedirs(fold_path, exist_ok=True)\n",
    "    df[f\"cv{fold_idx + 1}\"] = 0\n",
    "\n",
    "    for idx in test_idx:\n",
    "        class_label = labels[idx]\n",
    "        class_fold_path = os.path.join(fold_path, class_label)\n",
    "        os.makedirs(class_fold_path, exist_ok=True)\n",
    "        shutil.copy(file_paths[idx], class_fold_path)\n",
    "        df.at[f\"{class_label}\", f\"cv{fold_idx + 1}\"] += 1 \n",
    "    print(f\"cv{fold_idx + 1} completed.\")"
   ]
  },
  {
   "cell_type": "code",
   "execution_count": 9,
   "id": "c872b920f8148774",
   "metadata": {
    "execution": {
     "iopub.execute_input": "2024-11-13T19:32:21.855897Z",
     "iopub.status.busy": "2024-11-13T19:32:21.855897Z",
     "iopub.status.idle": "2024-11-13T19:32:21.881596Z",
     "shell.execute_reply": "2024-11-13T19:32:21.881596Z"
    },
    "papermill": {
     "duration": 0.029766,
     "end_time": "2024-11-13T19:32:21.882659",
     "exception": false,
     "start_time": "2024-11-13T19:32:21.852893",
     "status": "completed"
    },
    "tags": []
   },
   "outputs": [
    {
     "data": {
      "text/html": [
       "<div>\n",
       "<style scoped>\n",
       "    .dataframe tbody tr th:only-of-type {\n",
       "        vertical-align: middle;\n",
       "    }\n",
       "\n",
       "    .dataframe tbody tr th {\n",
       "        vertical-align: top;\n",
       "    }\n",
       "\n",
       "    .dataframe thead th {\n",
       "        text-align: right;\n",
       "    }\n",
       "</style>\n",
       "<table border=\"1\" class=\"dataframe\">\n",
       "  <thead>\n",
       "    <tr style=\"text-align: right;\">\n",
       "      <th></th>\n",
       "      <th>total</th>\n",
       "      <th>cv1</th>\n",
       "      <th>cv2</th>\n",
       "      <th>cv3</th>\n",
       "      <th>cv4</th>\n",
       "      <th>cv5</th>\n",
       "    </tr>\n",
       "    <tr>\n",
       "      <th>model</th>\n",
       "      <th></th>\n",
       "      <th></th>\n",
       "      <th></th>\n",
       "      <th></th>\n",
       "      <th></th>\n",
       "      <th></th>\n",
       "    </tr>\n",
       "  </thead>\n",
       "  <tbody>\n",
       "    <tr>\n",
       "      <th>A10</th>\n",
       "      <td>690</td>\n",
       "      <td>138</td>\n",
       "      <td>138</td>\n",
       "      <td>138</td>\n",
       "      <td>138</td>\n",
       "      <td>138</td>\n",
       "    </tr>\n",
       "    <tr>\n",
       "      <th>A400M</th>\n",
       "      <td>463</td>\n",
       "      <td>93</td>\n",
       "      <td>93</td>\n",
       "      <td>93</td>\n",
       "      <td>92</td>\n",
       "      <td>92</td>\n",
       "    </tr>\n",
       "    <tr>\n",
       "      <th>AG600</th>\n",
       "      <td>259</td>\n",
       "      <td>52</td>\n",
       "      <td>52</td>\n",
       "      <td>51</td>\n",
       "      <td>52</td>\n",
       "      <td>52</td>\n",
       "    </tr>\n",
       "    <tr>\n",
       "      <th>AH64</th>\n",
       "      <td>376</td>\n",
       "      <td>75</td>\n",
       "      <td>75</td>\n",
       "      <td>76</td>\n",
       "      <td>75</td>\n",
       "      <td>75</td>\n",
       "    </tr>\n",
       "    <tr>\n",
       "      <th>An124</th>\n",
       "      <td>145</td>\n",
       "      <td>29</td>\n",
       "      <td>29</td>\n",
       "      <td>29</td>\n",
       "      <td>29</td>\n",
       "      <td>29</td>\n",
       "    </tr>\n",
       "    <tr>\n",
       "      <th>...</th>\n",
       "      <td>...</td>\n",
       "      <td>...</td>\n",
       "      <td>...</td>\n",
       "      <td>...</td>\n",
       "      <td>...</td>\n",
       "      <td>...</td>\n",
       "    </tr>\n",
       "    <tr>\n",
       "      <th>WZ7</th>\n",
       "      <td>95</td>\n",
       "      <td>19</td>\n",
       "      <td>19</td>\n",
       "      <td>19</td>\n",
       "      <td>19</td>\n",
       "      <td>19</td>\n",
       "    </tr>\n",
       "    <tr>\n",
       "      <th>XB70</th>\n",
       "      <td>172</td>\n",
       "      <td>34</td>\n",
       "      <td>34</td>\n",
       "      <td>34</td>\n",
       "      <td>35</td>\n",
       "      <td>35</td>\n",
       "    </tr>\n",
       "    <tr>\n",
       "      <th>Y20</th>\n",
       "      <td>197</td>\n",
       "      <td>40</td>\n",
       "      <td>40</td>\n",
       "      <td>39</td>\n",
       "      <td>39</td>\n",
       "      <td>39</td>\n",
       "    </tr>\n",
       "    <tr>\n",
       "      <th>YF23</th>\n",
       "      <td>136</td>\n",
       "      <td>27</td>\n",
       "      <td>27</td>\n",
       "      <td>28</td>\n",
       "      <td>27</td>\n",
       "      <td>27</td>\n",
       "    </tr>\n",
       "    <tr>\n",
       "      <th>Z19</th>\n",
       "      <td>69</td>\n",
       "      <td>14</td>\n",
       "      <td>14</td>\n",
       "      <td>13</td>\n",
       "      <td>14</td>\n",
       "      <td>14</td>\n",
       "    </tr>\n",
       "  </tbody>\n",
       "</table>\n",
       "<p>74 rows × 6 columns</p>\n",
       "</div>"
      ],
      "text/plain": [
       "       total  cv1  cv2  cv3  cv4  cv5\n",
       "model                                \n",
       "A10      690  138  138  138  138  138\n",
       "A400M    463   93   93   93   92   92\n",
       "AG600    259   52   52   51   52   52\n",
       "AH64     376   75   75   76   75   75\n",
       "An124    145   29   29   29   29   29\n",
       "...      ...  ...  ...  ...  ...  ...\n",
       "WZ7       95   19   19   19   19   19\n",
       "XB70     172   34   34   34   35   35\n",
       "Y20      197   40   40   39   39   39\n",
       "YF23     136   27   27   28   27   27\n",
       "Z19       69   14   14   13   14   14\n",
       "\n",
       "[74 rows x 6 columns]"
      ]
     },
     "execution_count": 9,
     "metadata": {},
     "output_type": "execute_result"
    }
   ],
   "source": [
    "df"
   ]
  },
  {
   "cell_type": "code",
   "execution_count": 10,
   "id": "a6b77bab1eef6414",
   "metadata": {
    "execution": {
     "iopub.execute_input": "2024-11-13T19:32:21.887994Z",
     "iopub.status.busy": "2024-11-13T19:32:21.887994Z",
     "iopub.status.idle": "2024-11-13T19:32:21.896871Z",
     "shell.execute_reply": "2024-11-13T19:32:21.896871Z"
    },
    "papermill": {
     "duration": 0.013709,
     "end_time": "2024-11-13T19:32:21.898379",
     "exception": false,
     "start_time": "2024-11-13T19:32:21.884670",
     "status": "completed"
    },
    "tags": []
   },
   "outputs": [
    {
     "data": {
      "text/plain": [
       "total    31917\n",
       "cv1       6384\n",
       "cv2       6384\n",
       "cv3       6383\n",
       "cv4       6383\n",
       "cv5       6383\n",
       "dtype: int64"
      ]
     },
     "execution_count": 10,
     "metadata": {},
     "output_type": "execute_result"
    }
   ],
   "source": [
    "df_sum = df.sum()\n",
    "df_sum"
   ]
  }
 ],
 "metadata": {
  "kernelspec": {
   "display_name": "Python 3 (ipykernel)",
   "language": "python",
   "name": "python3"
  },
  "language_info": {
   "codemirror_mode": {
    "name": "ipython",
    "version": 3
   },
   "file_extension": ".py",
   "mimetype": "text/x-python",
   "name": "python",
   "nbconvert_exporter": "python",
   "pygments_lexer": "ipython3",
   "version": "3.9.13"
  },
  "papermill": {
   "default_parameters": {},
   "duration": 34.920534,
   "end_time": "2024-11-13T19:32:22.238048",
   "environment_variables": {},
   "exception": null,
   "input_path": "../raw/cv_splitting.ipynb",
   "output_path": "../completed/cv_splitting_models.ipynb",
   "parameters": {
    "classification": "models"
   },
   "start_time": "2024-11-13T19:31:47.317514",
   "version": "2.6.0"
  }
 },
 "nbformat": 4,
 "nbformat_minor": 5
}