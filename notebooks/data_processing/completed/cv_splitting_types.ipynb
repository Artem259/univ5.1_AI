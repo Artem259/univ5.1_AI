{
 "cells": [
  {
   "cell_type": "code",
   "execution_count": 1,
   "id": "14803eba301bae9a",
   "metadata": {
    "execution": {
     "iopub.execute_input": "2024-11-13T19:32:39.239076Z",
     "iopub.status.busy": "2024-11-13T19:32:39.238078Z",
     "iopub.status.idle": "2024-11-13T19:32:40.197547Z",
     "shell.execute_reply": "2024-11-13T19:32:40.197547Z"
    },
    "papermill": {
     "duration": 0.963486,
     "end_time": "2024-11-13T19:32:40.199052",
     "exception": false,
     "start_time": "2024-11-13T19:32:39.235566",
     "status": "completed"
    },
    "tags": []
   },
   "outputs": [],
   "source": [
    "import os\n",
    "import shutil\n",
    "import numpy as np\n",
    "import pandas as pd\n",
    "from sklearn.model_selection import StratifiedKFold\n",
    "from collections import defaultdict\n",
    "from pathlib import Path\n",
    "\n",
    "from python import classes"
   ]
  },
  {
   "cell_type": "code",
   "execution_count": 2,
   "id": "initial_id",
   "metadata": {
    "execution": {
     "iopub.execute_input": "2024-11-13T19:32:40.203587Z",
     "iopub.status.busy": "2024-11-13T19:32:40.203587Z",
     "iopub.status.idle": "2024-11-13T19:32:40.213056Z",
     "shell.execute_reply": "2024-11-13T19:32:40.213056Z"
    },
    "papermill": {
     "duration": 0.013894,
     "end_time": "2024-11-13T19:32:40.214472",
     "exception": false,
     "start_time": "2024-11-13T19:32:40.200578",
     "status": "completed"
    },
    "tags": [
     "parameters"
    ]
   },
   "outputs": [],
   "source": [
    "classification = \"\"\n",
    "cv_folds = 5\n",
    "\n",
    "input_dir = \"crop\"\n",
    "output_dir = \"data\""
   ]
  },
  {
   "cell_type": "code",
   "execution_count": 3,
   "id": "6fce390d",
   "metadata": {
    "execution": {
     "iopub.execute_input": "2024-11-13T19:32:40.217725Z",
     "iopub.status.busy": "2024-11-13T19:32:40.217725Z",
     "iopub.status.idle": "2024-11-13T19:32:40.229080Z",
     "shell.execute_reply": "2024-11-13T19:32:40.229080Z"
    },
    "papermill": {
     "duration": 0.015024,
     "end_time": "2024-11-13T19:32:40.230500",
     "exception": false,
     "start_time": "2024-11-13T19:32:40.215476",
     "status": "completed"
    },
    "tags": [
     "injected-parameters"
    ]
   },
   "outputs": [],
   "source": [
    "# Parameters\n",
    "classification = \"types\"\n"
   ]
  },
  {
   "cell_type": "code",
   "execution_count": 4,
   "id": "d342c06b6296b91",
   "metadata": {
    "execution": {
     "iopub.execute_input": "2024-11-13T19:32:40.234328Z",
     "iopub.status.busy": "2024-11-13T19:32:40.234328Z",
     "iopub.status.idle": "2024-11-13T19:32:40.244574Z",
     "shell.execute_reply": "2024-11-13T19:32:40.244574Z"
    },
    "papermill": {
     "duration": 0.014069,
     "end_time": "2024-11-13T19:32:40.245575",
     "exception": false,
     "start_time": "2024-11-13T19:32:40.231506",
     "status": "completed"
    },
    "tags": []
   },
   "outputs": [],
   "source": [
    "assert classification in ['models', 'types'], \"classification must be one of ['models', 'types']\""
   ]
  },
  {
   "cell_type": "code",
   "execution_count": 5,
   "id": "af0d38a7250d92d4",
   "metadata": {
    "execution": {
     "iopub.execute_input": "2024-11-13T19:32:40.249079Z",
     "iopub.status.busy": "2024-11-13T19:32:40.249079Z",
     "iopub.status.idle": "2024-11-13T19:32:40.260148Z",
     "shell.execute_reply": "2024-11-13T19:32:40.260148Z"
    },
    "papermill": {
     "duration": 0.013574,
     "end_time": "2024-11-13T19:32:40.261149",
     "exception": false,
     "start_time": "2024-11-13T19:32:40.247575",
     "status": "completed"
    },
    "tags": []
   },
   "outputs": [],
   "source": [
    "output_dir = Path(output_dir) / f\"{classification}\""
   ]
  },
  {
   "cell_type": "code",
   "execution_count": 6,
   "id": "bee1db5564f03d35",
   "metadata": {
    "execution": {
     "iopub.execute_input": "2024-11-13T19:32:40.265664Z",
     "iopub.status.busy": "2024-11-13T19:32:40.265664Z",
     "iopub.status.idle": "2024-11-13T19:32:40.354603Z",
     "shell.execute_reply": "2024-11-13T19:32:40.354603Z"
    },
    "papermill": {
     "duration": 0.091945,
     "end_time": "2024-11-13T19:32:40.355606",
     "exception": false,
     "start_time": "2024-11-13T19:32:40.263661",
     "status": "completed"
    },
    "tags": []
   },
   "outputs": [
    {
     "name": "stdout",
     "output_type": "stream",
     "text": [
      "Classes found: 2\n"
     ]
    }
   ],
   "source": [
    "# Gather file paths for each class\n",
    "data = defaultdict(list)\n",
    "for model_dir in os.listdir(input_dir):\n",
    "    class_path = os.path.join(input_dir, model_dir)\n",
    "    if os.path.isdir(class_path):\n",
    "        for img_file in os.listdir(class_path):\n",
    "            key = classes.classes_map[classification][model_dir]\n",
    "            data[key].append(os.path.join(class_path, img_file))\n",
    "            \n",
    "df = pd.DataFrame(map(lambda kv: (kv[0], len(kv[1])), data.items()), columns=['model', 'total'])\n",
    "df.set_index('model', inplace=True)\n",
    "\n",
    "print(f\"Classes found: {len(df)}\")"
   ]
  },
  {
   "cell_type": "code",
   "execution_count": 7,
   "id": "f22f5f0e9d33a68d",
   "metadata": {
    "execution": {
     "iopub.execute_input": "2024-11-13T19:32:40.360115Z",
     "iopub.status.busy": "2024-11-13T19:32:40.359110Z",
     "iopub.status.idle": "2024-11-13T19:32:40.370628Z",
     "shell.execute_reply": "2024-11-13T19:32:40.370628Z"
    },
    "papermill": {
     "duration": 0.014028,
     "end_time": "2024-11-13T19:32:40.371631",
     "exception": false,
     "start_time": "2024-11-13T19:32:40.357603",
     "status": "completed"
    },
    "tags": []
   },
   "outputs": [],
   "source": [
    "# Create data and label arrays\n",
    "file_paths = []\n",
    "labels = []\n",
    "for label, paths in data.items():\n",
    "    file_paths.extend(paths)\n",
    "    labels.extend([label] * len(paths))\n",
    "\n",
    "file_paths = np.array(file_paths)\n",
    "labels = np.array(labels)"
   ]
  },
  {
   "cell_type": "code",
   "execution_count": 8,
   "id": "af8786f1fa5193a6",
   "metadata": {
    "execution": {
     "iopub.execute_input": "2024-11-13T19:32:40.375628Z",
     "iopub.status.busy": "2024-11-13T19:32:40.375628Z",
     "iopub.status.idle": "2024-11-13T19:33:34.443536Z",
     "shell.execute_reply": "2024-11-13T19:33:34.443536Z"
    },
    "papermill": {
     "duration": 54.070912,
     "end_time": "2024-11-13T19:33:34.444540",
     "exception": false,
     "start_time": "2024-11-13T19:32:40.373628",
     "status": "completed"
    },
    "tags": []
   },
   "outputs": [
    {
     "name": "stdout",
     "output_type": "stream",
     "text": [
      "cv1 completed.\n"
     ]
    },
    {
     "name": "stdout",
     "output_type": "stream",
     "text": [
      "cv2 completed.\n"
     ]
    },
    {
     "name": "stdout",
     "output_type": "stream",
     "text": [
      "cv3 completed.\n"
     ]
    },
    {
     "name": "stdout",
     "output_type": "stream",
     "text": [
      "cv4 completed.\n"
     ]
    },
    {
     "name": "stdout",
     "output_type": "stream",
     "text": [
      "cv5 completed.\n"
     ]
    }
   ],
   "source": [
    "# Stratified K-Fold cross-validation\n",
    "skf = StratifiedKFold(n_splits=cv_folds, shuffle=True, random_state=42)\n",
    "\n",
    "shutil.rmtree(output_dir, ignore_errors=True)\n",
    "for fold_idx, (_, test_idx) in enumerate(skf.split(file_paths, labels)):\n",
    "    fold_path = os.path.join(output_dir, f\"cv{fold_idx + 1}\")\n",
    "    os.makedirs(fold_path, exist_ok=True)\n",
    "    df[f\"cv{fold_idx + 1}\"] = 0\n",
    "\n",
    "    for idx in test_idx:\n",
    "        class_label = labels[idx]\n",
    "        class_fold_path = os.path.join(fold_path, class_label)\n",
    "        os.makedirs(class_fold_path, exist_ok=True)\n",
    "        shutil.copy(file_paths[idx], class_fold_path)\n",
    "        df.at[f\"{class_label}\", f\"cv{fold_idx + 1}\"] += 1 \n",
    "    print(f\"cv{fold_idx + 1} completed.\")"
   ]
  },
  {
   "cell_type": "code",
   "execution_count": 9,
   "id": "c872b920f8148774",
   "metadata": {
    "execution": {
     "iopub.execute_input": "2024-11-13T19:33:34.448675Z",
     "iopub.status.busy": "2024-11-13T19:33:34.448675Z",
     "iopub.status.idle": "2024-11-13T19:33:34.459327Z",
     "shell.execute_reply": "2024-11-13T19:33:34.459327Z"
    },
    "papermill": {
     "duration": 0.014088,
     "end_time": "2024-11-13T19:33:34.460632",
     "exception": false,
     "start_time": "2024-11-13T19:33:34.446544",
     "status": "completed"
    },
    "tags": []
   },
   "outputs": [
    {
     "data": {
      "text/html": [
       "<div>\n",
       "<style scoped>\n",
       "    .dataframe tbody tr th:only-of-type {\n",
       "        vertical-align: middle;\n",
       "    }\n",
       "\n",
       "    .dataframe tbody tr th {\n",
       "        vertical-align: top;\n",
       "    }\n",
       "\n",
       "    .dataframe thead th {\n",
       "        text-align: right;\n",
       "    }\n",
       "</style>\n",
       "<table border=\"1\" class=\"dataframe\">\n",
       "  <thead>\n",
       "    <tr style=\"text-align: right;\">\n",
       "      <th></th>\n",
       "      <th>total</th>\n",
       "      <th>cv1</th>\n",
       "      <th>cv2</th>\n",
       "      <th>cv3</th>\n",
       "      <th>cv4</th>\n",
       "      <th>cv5</th>\n",
       "    </tr>\n",
       "    <tr>\n",
       "      <th>model</th>\n",
       "      <th></th>\n",
       "      <th></th>\n",
       "      <th></th>\n",
       "      <th></th>\n",
       "      <th></th>\n",
       "      <th></th>\n",
       "    </tr>\n",
       "  </thead>\n",
       "  <tbody>\n",
       "    <tr>\n",
       "      <th>airplane</th>\n",
       "      <td>29572</td>\n",
       "      <td>5915</td>\n",
       "      <td>5915</td>\n",
       "      <td>5914</td>\n",
       "      <td>5914</td>\n",
       "      <td>5914</td>\n",
       "    </tr>\n",
       "    <tr>\n",
       "      <th>helicopter</th>\n",
       "      <td>2345</td>\n",
       "      <td>469</td>\n",
       "      <td>469</td>\n",
       "      <td>469</td>\n",
       "      <td>469</td>\n",
       "      <td>469</td>\n",
       "    </tr>\n",
       "  </tbody>\n",
       "</table>\n",
       "</div>"
      ],
      "text/plain": [
       "            total   cv1   cv2   cv3   cv4   cv5\n",
       "model                                          \n",
       "airplane    29572  5915  5915  5914  5914  5914\n",
       "helicopter   2345   469   469   469   469   469"
      ]
     },
     "execution_count": 9,
     "metadata": {},
     "output_type": "execute_result"
    }
   ],
   "source": [
    "df"
   ]
  },
  {
   "cell_type": "code",
   "execution_count": 10,
   "id": "a6b77bab1eef6414",
   "metadata": {
    "execution": {
     "iopub.execute_input": "2024-11-13T19:33:34.464724Z",
     "iopub.status.busy": "2024-11-13T19:33:34.464724Z",
     "iopub.status.idle": "2024-11-13T19:33:34.476376Z",
     "shell.execute_reply": "2024-11-13T19:33:34.475284Z"
    },
    "papermill": {
     "duration": 0.013735,
     "end_time": "2024-11-13T19:33:34.476376",
     "exception": false,
     "start_time": "2024-11-13T19:33:34.462641",
     "status": "completed"
    },
    "tags": []
   },
   "outputs": [
    {
     "data": {
      "text/plain": [
       "total    31917\n",
       "cv1       6384\n",
       "cv2       6384\n",
       "cv3       6383\n",
       "cv4       6383\n",
       "cv5       6383\n",
       "dtype: int64"
      ]
     },
     "execution_count": 10,
     "metadata": {},
     "output_type": "execute_result"
    }
   ],
   "source": [
    "df_sum = df.sum()\n",
    "df_sum"
   ]
  }
 ],
 "metadata": {
  "kernelspec": {
   "display_name": "Python 3 (ipykernel)",
   "language": "python",
   "name": "python3"
  },
  "language_info": {
   "codemirror_mode": {
    "name": "ipython",
    "version": 3
   },
   "file_extension": ".py",
   "mimetype": "text/x-python",
   "name": "python",
   "nbconvert_exporter": "python",
   "pygments_lexer": "ipython3",
   "version": "3.9.13"
  },
  "papermill": {
   "default_parameters": {},
   "duration": 56.76479,
   "end_time": "2024-11-13T19:33:34.817278",
   "environment_variables": {},
   "exception": null,
   "input_path": "../raw/cv_splitting.ipynb",
   "output_path": "../completed/cv_splitting_types.ipynb",
   "parameters": {
    "classification": "types"
   },
   "start_time": "2024-11-13T19:32:38.052488",
   "version": "2.6.0"
  }
 },
 "nbformat": 4,
 "nbformat_minor": 5
}