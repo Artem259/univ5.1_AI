{
 "cells": [
  {
   "cell_type": "code",
   "id": "68295ebc6ee05944",
   "metadata": {
    "execution": {
     "iopub.execute_input": "2024-11-20T22:41:46.444602Z",
     "iopub.status.busy": "2024-11-20T22:41:46.444602Z",
     "iopub.status.idle": "2024-11-20T22:41:49.416081Z",
     "shell.execute_reply": "2024-11-20T22:41:49.416081Z"
    },
    "papermill": {
     "duration": 2.976271,
     "end_time": "2024-11-20T22:41:49.417361",
     "exception": false,
     "start_time": "2024-11-20T22:41:46.441090",
     "status": "completed"
    },
    "tags": []
   },
   "source": [
    "import shutil\n",
    "import tensorflow as tf\n",
    "import matplotlib.pyplot as plt\n",
    "from tensorflow.keras import layers\n",
    "from tensorflow.keras.callbacks import TensorBoard, EarlyStopping, ModelCheckpoint, ReduceLROnPlateau\n",
    "from tensorflow.keras.optimizers import Adamax\n",
    "from pathlib import Path\n",
    "from sklearn.metrics import ConfusionMatrixDisplay\n",
    "\n",
    "from python import classes, metrics, data_loader"
   ],
   "outputs": [],
   "execution_count": null
  },
  {
   "metadata": {
    "execution": {
     "iopub.execute_input": "2024-11-20T22:41:49.530211Z",
     "iopub.status.busy": "2024-11-20T22:41:49.530211Z",
     "iopub.status.idle": "2024-11-20T22:41:49.540987Z",
     "shell.execute_reply": "2024-11-20T22:41:49.540987Z"
    },
    "papermill": {
     "duration": 0.013775,
     "end_time": "2024-11-20T22:41:49.541987",
     "exception": false,
     "start_time": "2024-11-20T22:41:49.528212",
     "status": "completed"
    },
    "tags": [
     "parameters"
    ]
   },
   "cell_type": "code",
   "source": [
    "notebook_classification = \"\"\n",
    "notebook_cv = 0\n",
    "\n",
    "image_size = 112\n",
    "batch_size = 32\n",
    "total_cv = 5\n",
    "\n",
    "max_epochs_1 = 15\n",
    "lr_scheduler_patience_1 = 3\n",
    "early_stopping_patience_1 = 5\n",
    "max_epochs_2 = 50\n",
    "lr_scheduler_patience_2 = 3\n",
    "early_stopping_patience_2 = 5\n",
    "\n",
    "data_dir = \"data\"\n",
    "tensorboard_dir = \"out/logs\"\n",
    "metrics_dir = \"out/metrics\"\n",
    "models_dir = \"out/keras\"\n",
    "weights_dir = \"out/weights\"\n",
    "gpu_memory_limit = 1024*8"
   ],
   "id": "9452ca57d1461086",
   "outputs": [],
   "execution_count": null
  },
  {
   "cell_type": "code",
   "id": "165cccfad06abf71",
   "metadata": {
    "execution": {
     "iopub.execute_input": "2024-11-20T22:41:49.562404Z",
     "iopub.status.busy": "2024-11-20T22:41:49.562404Z",
     "iopub.status.idle": "2024-11-20T22:41:49.571912Z",
     "shell.execute_reply": "2024-11-20T22:41:49.571912Z"
    },
    "papermill": {
     "duration": 0.013989,
     "end_time": "2024-11-20T22:41:49.573398",
     "exception": false,
     "start_time": "2024-11-20T22:41:49.559409",
     "status": "completed"
    },
    "tags": []
   },
   "source": [
    "assert notebook_classification in ['models', 'types'], \"notebook_classification must be one of ['models', 'types']\"\n",
    "assert notebook_cv != 0, \"notebook_cv must be provided\"\n",
    "assert 1 <= notebook_cv <= total_cv, \"notebook_cv must be in the range [1, total_cv]\""
   ],
   "outputs": [],
   "execution_count": null
  },
  {
   "cell_type": "code",
   "id": "79b2642b0f28ccd4",
   "metadata": {
    "execution": {
     "iopub.execute_input": "2024-11-20T22:41:49.578415Z",
     "iopub.status.busy": "2024-11-20T22:41:49.578415Z",
     "iopub.status.idle": "2024-11-20T22:41:49.587023Z",
     "shell.execute_reply": "2024-11-20T22:41:49.587023Z"
    },
    "papermill": {
     "duration": 0.013119,
     "end_time": "2024-11-20T22:41:49.588028",
     "exception": false,
     "start_time": "2024-11-20T22:41:49.574909",
     "status": "completed"
    },
    "tags": []
   },
   "source": [
    "class_names = classes.class_names[notebook_classification]\n",
    "classes_num = len(class_names)\n",
    "\n",
    "notebook_model = \"m3\"\n",
    "data_dir = Path(data_dir) / f\"{notebook_classification}\"\n",
    "tensorboard_dir = Path(tensorboard_dir) / f\"{notebook_model}/{notebook_classification}/cv{notebook_cv}\"\n",
    "metrics_file = Path(metrics_dir) / f\"{notebook_model}/{notebook_classification}.json\"\n",
    "model_file = Path(models_dir) / f\"{notebook_model}/{notebook_classification}/cv{notebook_cv}.keras\"\n",
    "weights_file = Path(weights_dir) / f\"{notebook_model}/{notebook_classification}/cv{notebook_cv}.weights.h5\""
   ],
   "outputs": [],
   "execution_count": null
  },
  {
   "cell_type": "code",
   "id": "b1a981c05f1537f1",
   "metadata": {
    "execution": {
     "iopub.execute_input": "2024-11-20T22:41:49.593059Z",
     "iopub.status.busy": "2024-11-20T22:41:49.593059Z",
     "iopub.status.idle": "2024-11-20T22:41:49.602326Z",
     "shell.execute_reply": "2024-11-20T22:41:49.602326Z"
    },
    "papermill": {
     "duration": 0.012674,
     "end_time": "2024-11-20T22:41:49.603330",
     "exception": false,
     "start_time": "2024-11-20T22:41:49.590656",
     "status": "completed"
    },
    "tags": []
   },
   "source": [
    "assert not model_file.is_file(), \"This model already exists\""
   ],
   "outputs": [],
   "execution_count": null
  },
  {
   "cell_type": "code",
   "id": "643f5e0f0cce3da7",
   "metadata": {
    "execution": {
     "iopub.execute_input": "2024-11-20T22:41:49.607840Z",
     "iopub.status.busy": "2024-11-20T22:41:49.607840Z",
     "iopub.status.idle": "2024-11-20T22:41:49.617396Z",
     "shell.execute_reply": "2024-11-20T22:41:49.617396Z"
    },
    "papermill": {
     "duration": 0.012559,
     "end_time": "2024-11-20T22:41:49.618399",
     "exception": false,
     "start_time": "2024-11-20T22:41:49.605840",
     "status": "completed"
    },
    "tags": []
   },
   "source": [
    "shutil.rmtree(tensorboard_dir, ignore_errors=True)\n",
    "\n",
    "tensorboard_dir.mkdir(parents=True, exist_ok=True)\n",
    "metrics_file.parent.mkdir(parents=True, exist_ok=True)\n",
    "model_file.parent.mkdir(parents=True, exist_ok=True)\n",
    "weights_file.parent.mkdir(parents=True, exist_ok=True)"
   ],
   "outputs": [],
   "execution_count": null
  },
  {
   "cell_type": "code",
   "id": "f1b2751a81ec556d",
   "metadata": {
    "execution": {
     "iopub.execute_input": "2024-11-20T22:41:49.623906Z",
     "iopub.status.busy": "2024-11-20T22:41:49.623906Z",
     "iopub.status.idle": "2024-11-20T22:41:49.633983Z",
     "shell.execute_reply": "2024-11-20T22:41:49.633983Z"
    },
    "papermill": {
     "duration": 0.013824,
     "end_time": "2024-11-20T22:41:49.635221",
     "exception": false,
     "start_time": "2024-11-20T22:41:49.621397",
     "status": "completed"
    },
    "tags": []
   },
   "source": [
    "gpus = tf.config.list_physical_devices('GPU')\n",
    "print(\"Num GPUs Available: \", len(tf.config.list_physical_devices('GPU')))\n",
    "if len(gpus) > 0:\n",
    "    tf.config.set_logical_device_configuration(gpus[0], [\n",
    "        tf.config.LogicalDeviceConfiguration(memory_limit=gpu_memory_limit)\n",
    "    ])"
   ],
   "outputs": [],
   "execution_count": null
  },
  {
   "metadata": {},
   "cell_type": "code",
   "source": [
    "def gen_metrics():\n",
    "    return [\n",
    "        'accuracy', \n",
    "        metrics.F1Macro(classes_num), \n",
    "        metrics.PrecisionMacro(classes_num),\n",
    "        metrics.RecallMacro(classes_num)\n",
    "    ]\n",
    "\n",
    "def gen_callbacks(lr_patience, es_patience):\n",
    "    return [\n",
    "        TensorBoard(log_dir=tensorboard_dir),\n",
    "        ModelCheckpoint(weights_file, save_best_only=True, save_weights_only=True),\n",
    "        ReduceLROnPlateau(monitor='val_loss', patience=lr_patience, min_lr=1e-6),\n",
    "        EarlyStopping(monitor='val_loss', patience=es_patience)\n",
    "    ]"
   ],
   "id": "9e45038a258c3032",
   "outputs": [],
   "execution_count": null
  },
  {
   "cell_type": "code",
   "id": "c4d29372ce77bc45",
   "metadata": {
    "execution": {
     "iopub.execute_input": "2024-11-20T22:41:49.641226Z",
     "iopub.status.busy": "2024-11-20T22:41:49.640226Z",
     "iopub.status.idle": "2024-11-20T22:41:54.926033Z",
     "shell.execute_reply": "2024-11-20T22:41:54.926033Z"
    },
    "papermill": {
     "duration": 5.288811,
     "end_time": "2024-11-20T22:41:54.927037",
     "exception": false,
     "start_time": "2024-11-20T22:41:49.638226",
     "status": "completed"
    },
    "tags": []
   },
   "source": [
    "train_data, val_data = data_loader.load_data(\n",
    "    data_dir=data_dir,\n",
    "    val_fold=notebook_cv,\n",
    "    total_folds=total_cv,\n",
    "    class_names=class_names,\n",
    "    batch_size=batch_size,\n",
    "    image_size=image_size\n",
    ")"
   ],
   "outputs": [],
   "execution_count": null
  },
  {
   "cell_type": "code",
   "id": "4296c64a4e3c53db",
   "metadata": {},
   "source": [
    "data_augmentation = tf.keras.Sequential([\n",
    "    layers.RandomFlip('horizontal'),\n",
    "    layers.RandomRotation(0.2),\n",
    "    layers.RandomZoom(0.2),\n",
    "    layers.RandomContrast(0.1)\n",
    "])"
   ],
   "outputs": [],
   "execution_count": null
  },
  {
   "metadata": {
    "execution": {
     "iopub.execute_input": "2024-11-20T22:41:54.933197Z",
     "iopub.status.busy": "2024-11-20T22:41:54.933197Z",
     "iopub.status.idle": "2024-11-20T22:41:54.956416Z",
     "shell.execute_reply": "2024-11-20T22:41:54.956416Z"
    },
    "papermill": {
     "duration": 0.027382,
     "end_time": "2024-11-20T22:41:54.957419",
     "exception": false,
     "start_time": "2024-11-20T22:41:54.930037",
     "status": "completed"
    },
    "tags": []
   },
   "cell_type": "code",
   "source": [
    "base_model = tf.keras.applications.efficientnet.EfficientNetB3(\n",
    "    include_top=False,\n",
    "    input_shape=(image_size, image_size, 3), \n",
    "    pooling='max'\n",
    ")"
   ],
   "id": "2ebfe2fb5c0d7214",
   "outputs": [],
   "execution_count": null
  },
  {
   "cell_type": "code",
   "id": "2a11a05b05a8353a",
   "metadata": {
    "execution": {
     "iopub.execute_input": "2024-11-20T22:41:56.407327Z",
     "iopub.status.busy": "2024-11-20T22:41:56.406323Z",
     "iopub.status.idle": "2024-11-20T22:41:56.914833Z",
     "shell.execute_reply": "2024-11-20T22:41:56.914833Z"
    },
    "papermill": {
     "duration": 0.511525,
     "end_time": "2024-11-20T22:41:56.915842",
     "exception": false,
     "start_time": "2024-11-20T22:41:56.404317",
     "status": "completed"
    },
    "tags": []
   },
   "source": [
    "# Input layer\n",
    "inputs = layers.Input(shape=(image_size, image_size, 3))\n",
    "x = data_augmentation(inputs)\n",
    "\n",
    "# Base model\n",
    "x = base_model(x, training=False)\n",
    "\n",
    "# Head model\n",
    "x = layers.BatchNormalization()(x)\n",
    "x = layers.Dense(256, activation='relu')(x)\n",
    "x = layers.Dropout(0.2)(x)\n",
    "\n",
    "# Output layer\n",
    "outputs = layers.Dense(classes_num, activation='softmax')(x)\n",
    "model = tf.keras.Model(inputs, outputs)\n",
    "\n",
    "model.summary()"
   ],
   "outputs": [],
   "execution_count": null
  },
  {
   "cell_type": "code",
   "id": "dd0bc5c60bd049e0",
   "metadata": {
    "execution": {
     "iopub.execute_input": "2024-11-20T22:41:56.923189Z",
     "iopub.status.busy": "2024-11-20T22:41:56.923189Z",
     "iopub.status.idle": "2024-11-20T22:41:56.947439Z",
     "shell.execute_reply": "2024-11-20T22:41:56.946437Z"
    },
    "papermill": {
     "duration": 0.029599,
     "end_time": "2024-11-20T22:41:56.948438",
     "exception": false,
     "start_time": "2024-11-20T22:41:56.918839",
     "status": "completed"
    },
    "tags": []
   },
   "source": [
    "base_model.trainable = False\n",
    "model.compile(\n",
    "    optimizer=Adamax(learning_rate=0.001), \n",
    "    loss=tf.keras.losses.SparseCategoricalCrossentropy(), \n",
    "    metrics=gen_metrics()\n",
    ")"
   ],
   "outputs": [],
   "execution_count": null
  },
  {
   "cell_type": "code",
   "id": "bec8488c31b23deb",
   "metadata": {
    "execution": {
     "iopub.execute_input": "2024-11-20T22:41:56.957723Z",
     "iopub.status.busy": "2024-11-20T22:41:56.957723Z",
     "iopub.status.idle": "2024-11-20T23:02:14.990118Z",
     "shell.execute_reply": "2024-11-20T23:02:14.987590Z"
    },
    "papermill": {
     "duration": 1218.040825,
     "end_time": "2024-11-20T23:02:14.993263",
     "exception": false,
     "start_time": "2024-11-20T22:41:56.952438",
     "status": "completed"
    },
    "tags": []
   },
   "source": [
    "history = model.fit(\n",
    "    train_data, epochs=max_epochs_1, validation_data=val_data, verbose=2,\n",
    "    callbacks=gen_callbacks(lr_scheduler_patience_1, early_stopping_patience_1)\n",
    ");"
   ],
   "outputs": [],
   "execution_count": null
  },
  {
   "metadata": {},
   "cell_type": "code",
   "source": [
    "model.load_weights(weights_file)\n",
    "next_epoch = len(history.history['val_loss'])"
   ],
   "id": "ac8868a001307a94",
   "outputs": [],
   "execution_count": null
  },
  {
   "cell_type": "code",
   "id": "a65f5b8ad7656813",
   "metadata": {},
   "source": [
    "base_model.trainable = True\n",
    "model.compile(\n",
    "    optimizer=Adamax(learning_rate=0.0001), \n",
    "    loss=tf.keras.losses.SparseCategoricalCrossentropy(), \n",
    "    metrics=gen_metrics()\n",
    ")"
   ],
   "outputs": [],
   "execution_count": null
  },
  {
   "metadata": {
    "execution": {
     "iopub.execute_input": "2024-11-20T23:02:15.012660Z",
     "iopub.status.busy": "2024-11-20T23:02:15.011661Z",
     "iopub.status.idle": "2024-11-20T23:24:07.547314Z",
     "shell.execute_reply": "2024-11-20T23:24:07.546315Z"
    },
    "papermill": {
     "duration": 1310.433068,
     "end_time": "2024-11-20T23:24:05.436329",
     "exception": false,
     "start_time": "2024-11-20T23:02:15.003261",
     "status": "completed"
    },
    "tags": [],
    "jupyter": {
     "is_executing": true
    }
   },
   "cell_type": "code",
   "source": [
    "model.fit(\n",
    "    train_data, epochs=max_epochs_1+max_epochs_2, validation_data=val_data, initial_epoch=next_epoch, verbose=2,\n",
    "    callbacks=gen_callbacks(lr_scheduler_patience_2, early_stopping_patience_2)\n",
    ");"
   ],
   "id": "9eec4a5f6d41f52b",
   "outputs": [],
   "execution_count": null
  },
  {
   "metadata": {},
   "cell_type": "code",
   "source": [
    "model.load_weights(weights_file)\n",
    "model.save(model_file)"
   ],
   "id": "8152484930a36a80",
   "outputs": [],
   "execution_count": null
  },
  {
   "cell_type": "code",
   "id": "1b104b50dfe9744c",
   "metadata": {
    "papermill": {
     "duration": null,
     "end_time": null,
     "exception": null,
     "start_time": null,
     "status": "completed"
    },
    "tags": []
   },
   "source": [
    "fold_metrics = metrics.evaluate_metrics(model, val_data)\n",
    "metrics.save_metrics(fold_metrics, metrics_file, notebook_cv)\n",
    "fold_metrics"
   ],
   "outputs": [],
   "execution_count": null
  },
  {
   "cell_type": "code",
   "id": "586f8e7c-be8e-4361-b90c-28dc52fd0db4",
   "metadata": {
    "papermill": {
     "duration": null,
     "end_time": null,
     "exception": null,
     "start_time": null,
     "status": "completed"
    },
    "tags": []
   },
   "source": [
    "y_true, y_pred = metrics.model_predict(model, val_data)\n",
    "\n",
    "fig, ax = plt.subplots(figsize=(classes_num, classes_num))\n",
    "cmp = ConfusionMatrixDisplay.from_predictions(\n",
    "    y_true, y_pred, \n",
    "    display_labels=class_names, \n",
    "    cmap=plt.get_cmap('Blues'),\n",
    "    colorbar=False, \n",
    "    xticks_rotation='vertical', \n",
    "    ax=ax\n",
    ")"
   ],
   "outputs": [],
   "execution_count": null
  }
 ],
 "metadata": {
  "kernelspec": {
   "display_name": "Python 3 (ipykernel)",
   "language": "python",
   "name": "python3"
  },
  "language_info": {
   "codemirror_mode": {
    "name": "ipython",
    "version": 3
   },
   "file_extension": ".py",
   "mimetype": "text/x-python",
   "name": "python",
   "nbconvert_exporter": "python",
   "pygments_lexer": "ipython3",
   "version": "3.9.13"
  },
  "papermill": {
   "default_parameters": {},
   "duration": 2542.688876,
   "end_time": "2024-11-20T23:24:08.111028",
   "environment_variables": {},
   "exception": null,
   "input_path": "../raw/m3.ipynb",
   "output_path": "../completed/m3_models_cv1.ipynb",
   "parameters": {
    "notebook_classification": "models",
    "notebook_cv": 1
   },
   "start_time": "2024-11-20T22:41:45.422152",
   "version": "2.6.0"
  }
 },
 "nbformat": 4,
 "nbformat_minor": 5
}
