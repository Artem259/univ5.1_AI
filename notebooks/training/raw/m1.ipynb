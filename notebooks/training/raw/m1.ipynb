{
 "cells": [
  {
   "cell_type": "code",
   "id": "68295ebc6ee05944",
   "metadata": {
    "execution": {
     "iopub.execute_input": "2024-11-19T17:39:17.059623Z",
     "iopub.status.busy": "2024-11-19T17:39:17.059623Z",
     "iopub.status.idle": "2024-11-19T17:39:20.761718Z",
     "shell.execute_reply": "2024-11-19T17:39:20.761718Z"
    },
    "papermill": {
     "duration": 3.706103,
     "end_time": "2024-11-19T17:39:20.762725",
     "exception": false,
     "start_time": "2024-11-19T17:39:17.056622",
     "status": "completed"
    },
    "tags": []
   },
   "source": [
    "import shutil\n",
    "import tensorflow as tf\n",
    "import matplotlib.pyplot as plt\n",
    "from tensorflow.keras import layers, models\n",
    "from tensorflow.keras.callbacks import TensorBoard, EarlyStopping, ModelCheckpoint, ReduceLROnPlateau\n",
    "from pathlib import Path\n",
    "from sklearn.metrics import ConfusionMatrixDisplay\n",
    "\n",
    "from python import classes, metrics, data_loader"
   ],
   "outputs": [],
   "execution_count": null
  },
  {
   "cell_type": "code",
   "id": "9452ca57d1461086",
   "metadata": {
    "execution": {
     "iopub.execute_input": "2024-11-19T17:39:20.862153Z",
     "iopub.status.busy": "2024-11-19T17:39:20.862153Z",
     "iopub.status.idle": "2024-11-19T17:39:20.871228Z",
     "shell.execute_reply": "2024-11-19T17:39:20.871228Z"
    },
    "papermill": {
     "duration": 0.01281,
     "end_time": "2024-11-19T17:39:20.872229",
     "exception": false,
     "start_time": "2024-11-19T17:39:20.859419",
     "status": "completed"
    },
    "tags": [
     "parameters"
    ]
   },
   "source": [
    "notebook_classification = \"\"\n",
    "notebook_cv = 0\n",
    "\n",
    "image_size = 64\n",
    "batch_size = 64\n",
    "max_epochs = 300\n",
    "lr_scheduler_patience = 10\n",
    "early_stopping_patience = 15\n",
    "total_cv = 5\n",
    "\n",
    "data_dir = \"data\"\n",
    "tensorboard_dir = \"out/logs\"\n",
    "metrics_dir = \"out/metrics\"\n",
    "models_dir = \"out/keras\"\n",
    "weights_dir = \"out/weights\""
   ],
   "outputs": [],
   "execution_count": null
  },
  {
   "cell_type": "code",
   "id": "165cccfad06abf71",
   "metadata": {
    "execution": {
     "iopub.execute_input": "2024-11-19T17:39:20.893039Z",
     "iopub.status.busy": "2024-11-19T17:39:20.892037Z",
     "iopub.status.idle": "2024-11-19T17:39:20.902248Z",
     "shell.execute_reply": "2024-11-19T17:39:20.902248Z"
    },
    "papermill": {
     "duration": 0.013212,
     "end_time": "2024-11-19T17:39:20.903250",
     "exception": false,
     "start_time": "2024-11-19T17:39:20.890038",
     "status": "completed"
    },
    "tags": []
   },
   "source": [
    "assert notebook_classification in ['models', 'types'], \"notebook_classification must be one of ['models', 'types']\"\n",
    "assert notebook_cv != 0, \"notebook_cv must be provided\"\n",
    "assert 1 <= notebook_cv <= total_cv, \"notebook_cv must be in the range [1, total_cv]\""
   ],
   "outputs": [],
   "execution_count": null
  },
  {
   "cell_type": "code",
   "id": "79b2642b0f28ccd4",
   "metadata": {
    "execution": {
     "iopub.execute_input": "2024-11-19T17:39:20.909252Z",
     "iopub.status.busy": "2024-11-19T17:39:20.909252Z",
     "iopub.status.idle": "2024-11-19T17:39:20.917904Z",
     "shell.execute_reply": "2024-11-19T17:39:20.917904Z"
    },
    "papermill": {
     "duration": 0.012656,
     "end_time": "2024-11-19T17:39:20.918905",
     "exception": false,
     "start_time": "2024-11-19T17:39:20.906249",
     "status": "completed"
    },
    "tags": []
   },
   "source": [
    "class_names = classes.class_names[notebook_classification]\n",
    "classes_num = len(class_names)\n",
    "\n",
    "notebook_model = \"m1\"\n",
    "data_dir = Path(data_dir) / f\"{notebook_classification}\"\n",
    "tensorboard_dir = Path(tensorboard_dir) / f\"{notebook_model}/{notebook_classification}/cv{notebook_cv}\"\n",
    "metrics_file = Path(metrics_dir) / f\"{notebook_model}/{notebook_classification}.json\"\n",
    "model_file = Path(models_dir) / f\"{notebook_model}/{notebook_classification}/cv{notebook_cv}.keras\"\n",
    "weights_file = Path(weights_dir) / f\"{notebook_model}/{notebook_classification}/cv{notebook_cv}.weights.h5\""
   ],
   "outputs": [],
   "execution_count": null
  },
  {
   "cell_type": "code",
   "id": "b1a981c05f1537f1",
   "metadata": {
    "execution": {
     "iopub.execute_input": "2024-11-19T17:39:20.924363Z",
     "iopub.status.busy": "2024-11-19T17:39:20.924363Z",
     "iopub.status.idle": "2024-11-19T17:39:20.932928Z",
     "shell.execute_reply": "2024-11-19T17:39:20.932928Z"
    },
    "papermill": {
     "duration": 0.013106,
     "end_time": "2024-11-19T17:39:20.934010",
     "exception": false,
     "start_time": "2024-11-19T17:39:20.920904",
     "status": "completed"
    },
    "tags": []
   },
   "source": "assert not model_file.is_file(), \"This model already exists\"",
   "outputs": [],
   "execution_count": null
  },
  {
   "cell_type": "code",
   "id": "643f5e0f0cce3da7",
   "metadata": {
    "execution": {
     "iopub.execute_input": "2024-11-19T17:39:20.939020Z",
     "iopub.status.busy": "2024-11-19T17:39:20.939020Z",
     "iopub.status.idle": "2024-11-19T17:39:20.948180Z",
     "shell.execute_reply": "2024-11-19T17:39:20.948180Z"
    },
    "papermill": {
     "duration": 0.013222,
     "end_time": "2024-11-19T17:39:20.949228",
     "exception": false,
     "start_time": "2024-11-19T17:39:20.936006",
     "status": "completed"
    },
    "tags": []
   },
   "source": [
    "shutil.rmtree(tensorboard_dir, ignore_errors=True)\n",
    "\n",
    "tensorboard_dir.mkdir(parents=True, exist_ok=True)\n",
    "metrics_file.parent.mkdir(parents=True, exist_ok=True)\n",
    "model_file.parent.mkdir(parents=True, exist_ok=True)\n",
    "weights_file.parent.mkdir(parents=True, exist_ok=True)"
   ],
   "outputs": [],
   "execution_count": null
  },
  {
   "cell_type": "code",
   "id": "f1b2751a81ec556d",
   "metadata": {
    "execution": {
     "iopub.execute_input": "2024-11-19T17:39:20.954235Z",
     "iopub.status.busy": "2024-11-19T17:39:20.954235Z",
     "iopub.status.idle": "2024-11-19T17:39:20.963237Z",
     "shell.execute_reply": "2024-11-19T17:39:20.963237Z"
    },
    "papermill": {
     "duration": 0.013021,
     "end_time": "2024-11-19T17:39:20.964254",
     "exception": false,
     "start_time": "2024-11-19T17:39:20.951233",
     "status": "completed"
    },
    "tags": []
   },
   "source": [
    "print(\"Num GPUs Available: \", len(tf.config.list_physical_devices('GPU')))"
   ],
   "outputs": [],
   "execution_count": null
  },
  {
   "cell_type": "code",
   "id": "c4d29372ce77bc45",
   "metadata": {
    "execution": {
     "iopub.execute_input": "2024-11-19T17:39:20.969766Z",
     "iopub.status.busy": "2024-11-19T17:39:20.968766Z",
     "iopub.status.idle": "2024-11-19T17:39:22.173822Z",
     "shell.execute_reply": "2024-11-19T17:39:22.172823Z"
    },
    "papermill": {
     "duration": 1.207852,
     "end_time": "2024-11-19T17:39:22.175106",
     "exception": false,
     "start_time": "2024-11-19T17:39:20.967254",
     "status": "completed"
    },
    "tags": []
   },
   "source": [
    "train_data, val_data = data_loader.load_data(\n",
    "    data_dir=data_dir,\n",
    "    val_fold=notebook_cv,\n",
    "    total_folds=total_cv,\n",
    "    class_names=class_names,\n",
    "    batch_size=batch_size,\n",
    "    image_size=image_size\n",
    ")"
   ],
   "outputs": [],
   "execution_count": null
  },
  {
   "cell_type": "code",
   "id": "2ebfe2fb5c0d7214",
   "metadata": {
    "execution": {
     "iopub.execute_input": "2024-11-19T17:39:22.182836Z",
     "iopub.status.busy": "2024-11-19T17:39:22.181827Z",
     "iopub.status.idle": "2024-11-19T17:39:22.204777Z",
     "shell.execute_reply": "2024-11-19T17:39:22.204777Z"
    },
    "papermill": {
     "duration": 0.026322,
     "end_time": "2024-11-19T17:39:22.205666",
     "exception": false,
     "start_time": "2024-11-19T17:39:22.179344",
     "status": "completed"
    },
    "tags": []
   },
   "source": [
    "data_augmentation = tf.keras.Sequential([\n",
    "    layers.RandomFlip('horizontal'),\n",
    "    layers.RandomRotation(0.2),\n",
    "    layers.RandomZoom(0.2),\n",
    "    layers.RandomContrast(0.1)\n",
    "])"
   ],
   "outputs": [],
   "execution_count": null
  },
  {
   "cell_type": "code",
   "id": "2a11a05b05a8353a",
   "metadata": {
    "execution": {
     "iopub.execute_input": "2024-11-19T17:39:22.212879Z",
     "iopub.status.busy": "2024-11-19T17:39:22.212879Z",
     "iopub.status.idle": "2024-11-19T17:39:22.531106Z",
     "shell.execute_reply": "2024-11-19T17:39:22.530100Z"
    },
    "papermill": {
     "duration": 0.321436,
     "end_time": "2024-11-19T17:39:22.531106",
     "exception": false,
     "start_time": "2024-11-19T17:39:22.209670",
     "status": "completed"
    },
    "tags": []
   },
   "source": [
    "model = models.Sequential()\n",
    "\n",
    "# Input layer\n",
    "model.add(layers.Input(shape=(image_size, image_size, 3)))\n",
    "model.add(data_augmentation)\n",
    "model.add(layers.Rescaling(1./255))\n",
    "\n",
    "# First block\n",
    "model.add(layers.Conv2D(64, (3, 3), activation='relu', padding='same'))\n",
    "model.add(layers.BatchNormalization())\n",
    "model.add(layers.MaxPooling2D((2, 2)))\n",
    "model.add(layers.Dropout(0.2))\n",
    "\n",
    "# Second block\n",
    "model.add(layers.Conv2D(64, (3, 3), activation='relu', padding='same'))\n",
    "model.add(layers.BatchNormalization())\n",
    "model.add(layers.MaxPooling2D((2, 2)))\n",
    "model.add(layers.Dropout(0.2))\n",
    "\n",
    "# Third block\n",
    "model.add(layers.Conv2D(128, (3, 3), activation='relu', padding='same'))\n",
    "model.add(layers.BatchNormalization())\n",
    "model.add(layers.MaxPooling2D((2, 2)))\n",
    "model.add(layers.Dropout(0.2))\n",
    "\n",
    "# Fully connected layers\n",
    "model.add(layers.Flatten())\n",
    "model.add(layers.Dense(128, activation='relu'))\n",
    "model.add(layers.BatchNormalization())\n",
    "model.add(layers.Dropout(0.2))\n",
    "\n",
    "# Output layer\n",
    "model.add(layers.Dense(classes_num, activation='softmax'))\n",
    "\n",
    "model.summary()"
   ],
   "outputs": [],
   "execution_count": null
  },
  {
   "cell_type": "code",
   "id": "dd0bc5c60bd049e0",
   "metadata": {
    "execution": {
     "iopub.execute_input": "2024-11-19T17:39:22.542448Z",
     "iopub.status.busy": "2024-11-19T17:39:22.542448Z",
     "iopub.status.idle": "2024-11-19T17:39:22.561004Z",
     "shell.execute_reply": "2024-11-19T17:39:22.561004Z"
    },
    "papermill": {
     "duration": 0.025106,
     "end_time": "2024-11-19T17:39:22.562006",
     "exception": false,
     "start_time": "2024-11-19T17:39:22.536900",
     "status": "completed"
    },
    "tags": []
   },
   "source": [
    "model.compile(\n",
    "    optimizer='adam', loss=tf.keras.losses.SparseCategoricalCrossentropy(),\n",
    "    metrics=[\n",
    "        'accuracy', \n",
    "        metrics.F1Macro(classes_num), \n",
    "        metrics.PrecisionMacro(classes_num),\n",
    "        metrics.RecallMacro(classes_num)\n",
    "    ]\n",
    ")"
   ],
   "outputs": [],
   "execution_count": null
  },
  {
   "cell_type": "code",
   "id": "bec8488c31b23deb",
   "metadata": {
    "execution": {
     "iopub.execute_input": "2024-11-19T17:39:22.571509Z",
     "iopub.status.busy": "2024-11-19T17:39:22.571509Z",
     "iopub.status.idle": "2024-11-19T19:01:37.242543Z",
     "shell.execute_reply": "2024-11-19T19:01:37.239446Z"
    },
    "papermill": {
     "duration": 4934.610352,
     "end_time": "2024-11-19T19:01:37.177356",
     "exception": false,
     "start_time": "2024-11-19T17:39:22.567004",
     "status": "completed"
    },
    "tags": []
   },
   "source": [
    "tensorboard = TensorBoard(log_dir=tensorboard_dir)\n",
    "checkpoint = ModelCheckpoint(weights_file, save_best_only=True, save_weights_only=True)\n",
    "lr_scheduler = ReduceLROnPlateau(monitor='val_loss', patience=lr_scheduler_patience, min_lr=1e-6)\n",
    "early_stopping = EarlyStopping(monitor='val_loss', patience=early_stopping_patience)\n",
    "\n",
    "model.fit(\n",
    "    train_data, epochs=max_epochs, validation_data=val_data, verbose=2,\n",
    "    callbacks=[\n",
    "        tensorboard, checkpoint, lr_scheduler, early_stopping\n",
    "    ]\n",
    ");"
   ],
   "outputs": [],
   "execution_count": null
  },
  {
   "cell_type": "code",
   "id": "3e232503c73ce3e4",
   "metadata": {},
   "source": [
    "model.load_weights(weights_file)\n",
    "model.save(model_file)"
   ],
   "outputs": [],
   "execution_count": null
  },
  {
   "metadata": {
    "papermill": {
     "duration": null,
     "end_time": null,
     "exception": null,
     "start_time": null,
     "status": "completed"
    },
    "tags": []
   },
   "cell_type": "code",
   "source": [
    "fold_metrics = metrics.evaluate_metrics(model, val_data)\n",
    "metrics.save_metrics(fold_metrics, metrics_file, notebook_cv)\n",
    "fold_metrics"
   ],
   "id": "1b104b50dfe9744c",
   "outputs": [],
   "execution_count": null
  },
  {
   "cell_type": "code",
   "id": "586f8e7c-be8e-4361-b90c-28dc52fd0db4",
   "metadata": {
    "papermill": {
     "duration": null,
     "end_time": null,
     "exception": null,
     "start_time": null,
     "status": "completed"
    },
    "tags": []
   },
   "source": [
    "y_true, y_pred = metrics.model_predict(model, val_data)\n",
    "\n",
    "fig, ax = plt.subplots(figsize=(classes_num, classes_num))\n",
    "cmp = ConfusionMatrixDisplay.from_predictions(\n",
    "    y_true, y_pred, \n",
    "    display_labels=class_names, \n",
    "    cmap=plt.get_cmap('Blues'),\n",
    "    colorbar=False, \n",
    "    xticks_rotation='vertical', \n",
    "    ax=ax\n",
    ")"
   ],
   "outputs": [],
   "execution_count": null
  }
 ],
 "metadata": {
  "kernelspec": {
   "display_name": "Python 3 (ipykernel)",
   "language": "python",
   "name": "python3"
  },
  "language_info": {
   "codemirror_mode": {
    "name": "ipython",
    "version": 3
   },
   "file_extension": ".py",
   "mimetype": "text/x-python",
   "name": "python",
   "nbconvert_exporter": "python",
   "pygments_lexer": "ipython3",
   "version": "3.9.13"
  },
  "papermill": {
   "default_parameters": {},
   "duration": 4943.406755,
   "end_time": "2024-11-19T19:01:39.179657",
   "environment_variables": {},
   "exception": null,
   "input_path": "../raw/m2.ipynb",
   "output_path": "../completed/m2_models_cv1.ipynb",
   "parameters": {
    "notebook_classification": "models",
    "notebook_cv": 1
   },
   "start_time": "2024-11-19T17:39:15.772902",
   "version": "2.6.0"
  }
 },
 "nbformat": 4,
 "nbformat_minor": 5
}
