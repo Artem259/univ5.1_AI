{
 "cells": [
  {
   "cell_type": "code",
   "id": "68295ebc6ee05944",
   "metadata": {},
   "source": [
    "import shutil\n",
    "import tensorflow as tf\n",
    "import matplotlib.pyplot as plt\n",
    "from tensorflow.keras import layers, models\n",
    "from tensorflow.keras.callbacks import TensorBoard, EarlyStopping, ModelCheckpoint\n",
    "from pathlib import Path\n",
    "from sklearn.metrics import ConfusionMatrixDisplay\n",
    "\n",
    "from python import classes, metrics, data_loader"
   ],
   "outputs": [],
   "execution_count": null
  },
  {
   "cell_type": "code",
   "id": "9452ca57d1461086",
   "metadata": {
    "tags": [
     "parameters"
    ]
   },
   "source": [
    "notebook_classification = \"\"\n",
    "notebook_cv = 0\n",
    "\n",
    "image_size = 128\n",
    "batch_size = 64\n",
    "max_epochs = 300\n",
    "early_stopping_patience = 5\n",
    "total_cv = 5\n",
    "\n",
    "data_dir = \"data\"\n",
    "tensorboard_dir = \"out/logs\"\n",
    "metrics_dir = \"out/metrics\"\n",
    "models_dir = \"out/keras\"\n",
    "weights_dir = \"out/weights\""
   ],
   "outputs": [],
   "execution_count": null
  },
  {
   "cell_type": "code",
   "id": "165cccfad06abf71",
   "metadata": {},
   "source": [
    "assert notebook_classification in ['models', 'types'], \"notebook_classification must be one of ['models', 'types']\"\n",
    "assert notebook_cv != 0, \"notebook_cv must be provided\"\n",
    "assert notebook_cv <= total_cv, \"notebook_cv must not be greater than total_cv\""
   ],
   "outputs": [],
   "execution_count": null
  },
  {
   "cell_type": "code",
   "id": "79b2642b0f28ccd4",
   "metadata": {},
   "source": [
    "class_names = classes.class_names[notebook_classification]\n",
    "classes_num = len(class_names)\n",
    "\n",
    "notebook_model = \"m1\"\n",
    "data_dir = Path(data_dir) / f\"{notebook_classification}\"\n",
    "tensorboard_dir = Path(tensorboard_dir) / f\"{notebook_model}/{notebook_classification}/cv{notebook_cv}\"\n",
    "metrics_file = Path(metrics_dir) / f\"{notebook_model}/{notebook_classification}.json\"\n",
    "model_file = Path(models_dir) / f\"{notebook_model}/{notebook_classification}/cv{notebook_cv}.keras\"\n",
    "weights_file = Path(weights_dir) / f\"{notebook_model}/{notebook_classification}/cv{notebook_cv}.weights.h5\""
   ],
   "outputs": [],
   "execution_count": null
  },
  {
   "cell_type": "code",
   "id": "b1a981c05f1537f1",
   "metadata": {},
   "source": [
    "assert not model_file.is_file(), \"This model already exists\""
   ],
   "outputs": [],
   "execution_count": null
  },
  {
   "cell_type": "code",
   "id": "643f5e0f0cce3da7",
   "metadata": {},
   "source": [
    "shutil.rmtree(tensorboard_dir, ignore_errors=True)\n",
    "\n",
    "tensorboard_dir.mkdir(parents=True, exist_ok=True)\n",
    "metrics_file.parent.mkdir(parents=True, exist_ok=True)\n",
    "model_file.parent.mkdir(parents=True, exist_ok=True)\n",
    "weights_file.parent.mkdir(parents=True, exist_ok=True)"
   ],
   "outputs": [],
   "execution_count": null
  },
  {
   "cell_type": "code",
   "id": "f1b2751a81ec556d",
   "metadata": {},
   "source": [
    "print(\"Num GPUs Available: \", len(tf.config.list_physical_devices('GPU')))"
   ],
   "outputs": [],
   "execution_count": null
  },
  {
   "cell_type": "code",
   "id": "c4d29372ce77bc45",
   "metadata": {},
   "source": [
    "train_data, val_data = data_loader.load_data(\n",
    "    data_dir=data_dir,\n",
    "    val_fold=notebook_cv,\n",
    "    total_folds=total_cv,\n",
    "    class_names=class_names,\n",
    "    batch_size=batch_size,\n",
    "    image_size=image_size,\n",
    "    buffer_size=1000\n",
    ")"
   ],
   "outputs": [],
   "execution_count": null
  },
  {
   "cell_type": "code",
   "id": "a4bec93d713b712b",
   "metadata": {},
   "source": [
    "model = models.Sequential()\n",
    "model.add(layers.Input(shape=(image_size, image_size, 3)))\n",
    "model.add(layers.Rescaling(1./255)),\n",
    "\n",
    "model.add(layers.Conv2D(128, (3, 3), activation='relu'))\n",
    "model.add(layers.MaxPooling2D((2, 2)))\n",
    "model.add(layers.Dropout(0.3))\n",
    "model.add(layers.Conv2D(256, (3, 3), activation='relu'))\n",
    "model.add(layers.MaxPooling2D((2, 2)))\n",
    "model.add(layers.Dropout(0.3))\n",
    "model.add(layers.Conv2D(256, (3, 3), activation='relu'))\n",
    "model.add(layers.MaxPooling2D((2, 2)))\n",
    "model.add(layers.Dropout(0.3))\n",
    "model.add(layers.Conv2D(256, (3, 3), activation='relu'))\n",
    "model.add(layers.MaxPooling2D((2, 2)))\n",
    "model.add(layers.Dropout(0.3))\n",
    "model.add(layers.Conv2D(128, (3, 3), activation='relu'))\n",
    "\n",
    "model.add(layers.Flatten())\n",
    "model.add(layers.Dropout(0.3))\n",
    "model.add(layers.Dense(128, activation='relu'))\n",
    "\n",
    "model.add(layers.Dense(classes_num, activation='softmax'))\n",
    "\n",
    "model.summary()"
   ],
   "outputs": [],
   "execution_count": null
  },
  {
   "cell_type": "code",
   "id": "dd0bc5c60bd049e0",
   "metadata": {},
   "source": [
    "model.compile(\n",
    "    optimizer='adam', loss=tf.keras.losses.SparseCategoricalCrossentropy(),\n",
    "    metrics=[\n",
    "        'accuracy', \n",
    "        metrics.F1Macro(classes_num, 'f1'), \n",
    "        metrics.PrecisionMacro(classes_num, 'precision'),\n",
    "        metrics.RecallMacro(classes_num, 'recall')\n",
    "    ]\n",
    ")"
   ],
   "outputs": [],
   "execution_count": null
  },
  {
   "cell_type": "code",
   "id": "bec8488c31b23deb",
   "metadata": {},
   "source": [
    "checkpoint = ModelCheckpoint(weights_file, save_best_only=True, save_weights_only=True)\n",
    "early_stop = EarlyStopping(monitor='val_loss', patience=early_stopping_patience, restore_best_weights=True)\n",
    "tensorboard = TensorBoard(log_dir=tensorboard_dir)\n",
    "\n",
    "model.fit(\n",
    "    train_data, epochs=max_epochs, validation_data=val_data, verbose=2,\n",
    "    callbacks=[\n",
    "        checkpoint, early_stop, tensorboard\n",
    "    ]\n",
    ");"
   ],
   "outputs": [],
   "execution_count": null
  },
  {
   "cell_type": "code",
   "id": "1b104b50dfe9744c",
   "metadata": {},
   "source": [
    "fold_metrics = metrics.evaluate_metrics(model, val_data)\n",
    "metrics.save_metrics(fold_metrics, metrics_file, notebook_cv)\n",
    "fold_metrics"
   ],
   "outputs": [],
   "execution_count": null
  },
  {
   "cell_type": "code",
   "id": "586f8e7c-be8e-4361-b90c-28dc52fd0db4",
   "metadata": {},
   "source": [
    "y_true, y_pred = metrics.model_predict(model, val_data)\n",
    "\n",
    "fig, ax = plt.subplots(figsize=(classes_num, classes_num))\n",
    "cmp = ConfusionMatrixDisplay.from_predictions(\n",
    "    y_true, y_pred, \n",
    "    display_labels=class_names, \n",
    "    cmap=plt.get_cmap('Blues'),\n",
    "    colorbar=False, \n",
    "    xticks_rotation='vertical', \n",
    "    ax=ax\n",
    ")"
   ],
   "outputs": [],
   "execution_count": null
  },
  {
   "cell_type": "code",
   "id": "67aea142dfd9b373",
   "metadata": {},
   "source": [
    "model.save(model_file)"
   ],
   "outputs": [],
   "execution_count": null
  }
 ],
 "metadata": {
  "kernelspec": {
   "display_name": "Python 3 (ipykernel)",
   "language": "python",
   "name": "python3"
  },
  "language_info": {
   "codemirror_mode": {
    "name": "ipython",
    "version": 3
   },
   "file_extension": ".py",
   "mimetype": "text/x-python",
   "name": "python",
   "nbconvert_exporter": "python",
   "pygments_lexer": "ipython3",
   "version": "3.9.13"
  }
 },
 "nbformat": 4,
 "nbformat_minor": 5
}
