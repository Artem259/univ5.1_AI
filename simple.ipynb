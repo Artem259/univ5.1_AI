{
 "cells": [
  {
   "cell_type": "code",
   "id": "68295ebc6ee05944",
   "metadata": {},
   "source": [
    "import shutil\n",
    "import tensorflow as tf\n",
    "import matplotlib.pyplot as plt\n",
    "from tensorflow.keras import layers, models, utils\n",
    "from tensorflow.keras.callbacks import TensorBoard, EarlyStopping, ModelCheckpoint\n",
    "from pathlib import Path\n",
    "from sklearn.metrics import ConfusionMatrixDisplay\n",
    "\n",
    "from python import classes, metrics, data_loader"
   ],
   "outputs": [],
   "execution_count": null
  },
  {
   "cell_type": "code",
   "id": "9452ca57d1461086",
   "metadata": {},
   "source": [
    "notebook_name = \"main\"\n",
    "notebook_classification = \"\"\n",
    "notebook_cv = 0\n",
    "\n",
    "image_size = 128\n",
    "batch_size = 64\n",
    "max_epochs = 200\n",
    "early_stopping_patience = 5\n",
    "total_cv = 5\n",
    "\n",
    "data_dir = \"../../data\"\n",
    "tensorboard_dir = \"../../out/logs\"\n",
    "metrics_dir = \"../../out/metrics\"\n",
    "models_dir = \"../../out/keras\"\n",
    "weights_dir = \"../../out/weights\""
   ],
   "outputs": [],
   "execution_count": null
  },
  {
   "cell_type": "code",
   "id": "165cccfad06abf71",
   "metadata": {},
   "source": [
    "assert notebook_name != \"\", \"notebook_name must be provided\"\n",
    "assert notebook_classification in ['models', 'types'], \"notebook_classification must be one of ['models', 'types']\"\n",
    "assert notebook_cv != 0, \"notebook_cv must be provided\"\n",
    "assert notebook_cv <= total_cv, \"notebook_cv must not be greater than total_cv\""
   ],
   "outputs": [],
   "execution_count": null
  },
  {
   "cell_type": "code",
   "id": "79b2642b0f28ccd4",
   "metadata": {},
   "source": [
    "class_names = classes.class_names[notebook_classification]\n",
    "classes_num = len(class_names)\n",
    "metrics.classes_num = classes_num\n",
    "\n",
    "notebook_model = \"simple\"\n",
    "data_dir = Path(data_dir) / f\"{notebook_classification}\"\n",
    "tensorboard_dir = Path(tensorboard_dir) / f\"{notebook_model}/{notebook_classification}/{notebook_name}/cv{notebook_cv}\"\n",
    "metrics_file = Path(metrics_dir) / f\"{notebook_model}/{notebook_classification}/{notebook_name}.json\"\n",
    "model_file = Path(models_dir) / f\"{notebook_model}/{notebook_classification}/{notebook_name}/cv{notebook_cv}.keras\"\n",
    "weights_file = Path(weights_dir) / f\"{notebook_model}/{notebook_classification}/{notebook_name}/cv{notebook_cv}.weights.h5\""
   ],
   "outputs": [],
   "execution_count": null
  },
  {
   "cell_type": "code",
   "id": "b1a981c05f1537f1",
   "metadata": {},
   "source": [
    "assert not model_file.is_file(), \"This model already exists\""
   ],
   "outputs": [],
   "execution_count": null
  },
  {
   "cell_type": "code",
   "id": "643f5e0f0cce3da7",
   "metadata": {},
   "source": [
    "shutil.rmtree(tensorboard_dir, ignore_errors=True)\n",
    "\n",
    "tensorboard_dir.mkdir(parents=True, exist_ok=True)\n",
    "metrics_file.parent.mkdir(parents=True, exist_ok=True)\n",
    "model_file.parent.mkdir(parents=True, exist_ok=True)\n",
    "weights_file.parent.mkdir(parents=True, exist_ok=True)"
   ],
   "outputs": [],
   "execution_count": null
  },
  {
   "cell_type": "code",
   "id": "f1b2751a81ec556d",
   "metadata": {},
   "source": [
    "print(\"Num GPUs Available: \", len(tf.config.list_physical_devices('GPU')))"
   ],
   "outputs": [],
   "execution_count": null
  },
  {
   "cell_type": "code",
   "id": "c4d29372ce77bc45",
   "metadata": {},
   "source": [
    "train_data, val_data = data_loader.load_data(\n",
    "    data_dir=data_dir,\n",
    "    val_fold=notebook_cv,\n",
    "    total_folds=total_cv,\n",
    "    class_names=class_names,\n",
    "    batch_size=batch_size,\n",
    "    image_size=image_size,\n",
    "    buffer_size=10000\n",
    ")"
   ],
   "outputs": [],
   "execution_count": null
  },
  {
   "cell_type": "code",
   "id": "a4bec93d713b712b",
   "metadata": {},
   "source": [
    "model = models.Sequential()\n",
    "model.add(layers.Input(shape=(image_size, image_size, 3)))\n",
    "model.add(layers.Rescaling(1./255)),\n",
    "\n",
    "model.add(layers.Conv2D(32, (3, 3), activation='relu'))\n",
    "model.add(layers.MaxPooling2D((2, 2)))\n",
    "model.add(layers.Dropout(0.2))\n",
    "model.add(layers.Conv2D(64, (3, 3), activation='relu'))\n",
    "model.add(layers.MaxPooling2D((2, 2)))\n",
    "model.add(layers.Dropout(0.2))\n",
    "model.add(layers.Conv2D(64, (3, 3), activation='relu'))\n",
    "model.add(layers.MaxPooling2D((2, 2)))\n",
    "model.add(layers.Dropout(0.2))\n",
    "model.add(layers.Conv2D(32, (3, 3), activation='relu'))\n",
    "\n",
    "model.add(layers.Flatten())\n",
    "model.add(layers.Dropout(0.4))\n",
    "model.add(layers.Dense(64, activation='relu'))\n",
    "\n",
    "model.add(layers.Dense(classes_num, activation='softmax'))\n",
    "\n",
    "model.summary()"
   ],
   "outputs": [],
   "execution_count": null
  },
  {
   "cell_type": "code",
   "id": "dd0bc5c60bd049e0",
   "metadata": {},
   "source": [
    "model.compile(\n",
    "    optimizer=\"adam\", loss=tf.keras.losses.SparseCategoricalCrossentropy(), \n",
    "    metrics=[\"accuracy\", metrics.f1_m, metrics.precision_m, metrics.recall_m]\n",
    ")"
   ],
   "outputs": [],
   "execution_count": null
  },
  {
   "cell_type": "code",
   "id": "bec8488c31b23deb",
   "metadata": {
    "jupyter": {
     "is_executing": true
    }
   },
   "source": [
    "checkpoint = ModelCheckpoint(weights_file, save_best_only=True, save_weights_only=True)\n",
    "early_stop = EarlyStopping(monitor=\"val_loss\", patience=early_stopping_patience, restore_best_weights=True)\n",
    "tensorboard = TensorBoard(log_dir=tensorboard_dir)\n",
    "\n",
    "model.fit(\n",
    "    train_data, epochs=max_epochs, validation_data=val_data, \n",
    "    callbacks=[\n",
    "        checkpoint, early_stop, tensorboard\n",
    "    ]\n",
    ");"
   ],
   "outputs": [],
   "execution_count": null
  },
  {
   "cell_type": "code",
   "id": "8a2723ed-e382-46f5-8f78-3cd1f64588c5",
   "metadata": {},
   "source": [
    "y_true, y_pred = metrics.model_predict(model, val_data)"
   ],
   "outputs": [],
   "execution_count": null
  },
  {
   "cell_type": "code",
   "id": "1b104b50dfe9744c",
   "metadata": {},
   "source": [
    "fold_metrics = metrics.evaluate_metrics(y_true, y_pred)\n",
    "metrics.save_metrics(fold_metrics, metrics_file, notebook_cv)\n",
    "fold_metrics"
   ],
   "outputs": [],
   "execution_count": null
  },
  {
   "cell_type": "code",
   "id": "586f8e7c-be8e-4361-b90c-28dc52fd0db4",
   "metadata": {},
   "source": [
    "fig, ax = plt.subplots(figsize=(max(classes_num, 6), max(classes_num, 6)))\n",
    "cmp = ConfusionMatrixDisplay.from_predictions(y_true, y_pred, normalize=\"true\", display_labels=class_names, colorbar=False, xticks_rotation='vertical', ax=ax)"
   ],
   "outputs": [],
   "execution_count": null
  },
  {
   "cell_type": "code",
   "id": "67aea142dfd9b373",
   "metadata": {},
   "source": [
    "model.save(model_file)"
   ],
   "outputs": [],
   "execution_count": null
  }
 ],
 "metadata": {
  "kernelspec": {
   "display_name": "Python 3 (ipykernel)",
   "language": "python",
   "name": "python3"
  },
  "language_info": {
   "codemirror_mode": {
    "name": "ipython",
    "version": 3
   },
   "file_extension": ".py",
   "mimetype": "text/x-python",
   "name": "python",
   "nbconvert_exporter": "python",
   "pygments_lexer": "ipython3",
   "version": "3.9.13"
  }
 },
 "nbformat": 4,
 "nbformat_minor": 5
}
